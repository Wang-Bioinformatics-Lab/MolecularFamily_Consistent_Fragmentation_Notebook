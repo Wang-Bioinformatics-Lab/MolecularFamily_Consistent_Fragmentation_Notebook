{
 "cells": [
  {
   "cell_type": "code",
   "execution_count": null,
   "metadata": {},
   "outputs": [],
   "source": [
    "# Imports\n",
    "import pandas as pd\n",
    "from gnpsdata import workflow_massql\n",
    "from gnpsdata import workflow_classicnetworking\n",
    "from gnpsdata import taskresult\n",
    "from gnpsdata import dashboard\n",
    "from gnpsdata import resolver\n",
    "\n",
    "# Interactively showing the results\n",
    "from itables import init_notebook_mode\n",
    "init_notebook_mode(all_interactive=True)"
   ]
  },
  {
   "cell_type": "code",
   "execution_count": null,
   "metadata": {},
   "outputs": [],
   "source": [
    "# Loading testing data from GNPS\n",
    "gnps_task = \"82c4a3a796a246729bfbb7d1821448fe\"\n",
    "\n",
    "networking_nodes_df = workflow_classicnetworking.get_clustersummary_dataframe(gnps_task)"
   ]
  },
  {
   "cell_type": "code",
   "execution_count": null,
   "metadata": {},
   "outputs": [],
   "source": [
    "# Interactively visualizing data in the notebook\n",
    "\n",
    "networking_nodes_df"
   ]
  },
  {
   "cell_type": "code",
   "execution_count": null,
   "metadata": {},
   "outputs": [],
   "source": [
    "# Plotting using Plotly interactively\n",
    "\n",
    "import plotly.express as px\n",
    "df = px.data.tips()\n",
    "# Here we use a column with categorical data\n",
    "fig = px.histogram(networking_nodes_df, x=\"parent mass\")\n",
    "fig.show()"
   ]
  },
  {
   "cell_type": "code",
   "execution_count": null,
   "metadata": {},
   "outputs": [],
   "source": [
    "# Plotting spectra interactively with Plotly\n",
    "\n",
    "usi = \"mzspec:GNPS2:TASK-ddd9cb3cf41f435ab66c06554836dc5e-gnps_network/specs_ms.mgf:scan:714\"\n",
    "\n",
    "peaks_dict = resolver.resolve_usi(usi)\n",
    "\n",
    "# Draw the spectrum\n",
    "import plotly.graph_objects as go\n",
    "\n",
    "def _render_spectrum_plot(ms_peaks):\n",
    "    max_int = max([peak[1] for peak in ms_peaks])\n",
    "    # Drawing the spectrum object\n",
    "    mzs = [peak[0] for peak in ms_peaks]\n",
    "    ints = [peak[1]/max_int for peak in ms_peaks]\n",
    "    neg_ints = [intensity * -1 for intensity in ints]\n",
    "\n",
    "    # Hover data\n",
    "    hover_labels = [\"{:.4f} m/z, {:.2f} int\".format(mzs[i], ints[i]) for i in range(len(mzs))]\n",
    "\n",
    "    ms_fig = go.Figure(\n",
    "        data=go.Scatter(x=mzs, y=ints, \n",
    "            mode='markers',\n",
    "            marker=dict(size=0.00001),\n",
    "            error_y=dict(\n",
    "                symmetric=False,\n",
    "                arrayminus=[0]*len(neg_ints),\n",
    "                array=neg_ints,\n",
    "                width=0\n",
    "            ),\n",
    "            text=hover_labels,\n",
    "            textposition=\"top right\"\n",
    "        )\n",
    "    )\n",
    "\n",
    "    return ms_fig\n",
    "\n",
    "_render_spectrum_plot(peaks_dict[\"peaks\"])"
   ]
  },
  {
   "cell_type": "code",
   "execution_count": null,
   "metadata": {},
   "outputs": [],
   "source": []
  }
 ],
 "metadata": {
  "kernelspec": {
   "display_name": "Python 3 (ipykernel)",
   "language": "python",
   "name": "python3"
  },
  "language_info": {
   "codemirror_mode": {
    "name": "ipython",
    "version": 3
   },
   "file_extension": ".py",
   "mimetype": "text/x-python",
   "name": "python",
   "nbconvert_exporter": "python",
   "pygments_lexer": "ipython3",
   "version": "3.10.5"
  }
 },
 "nbformat": 4,
 "nbformat_minor": 4
}
